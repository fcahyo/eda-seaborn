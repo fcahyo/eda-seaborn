{
 "cells": [
  {
   "cell_type": "code",
   "execution_count": 1,
   "metadata": {},
   "outputs": [],
   "source": [
    "# Data analysis\n",
    "import numpy as np\n",
    "import pandas as pd\n",
    "\n",
    "# Data visualization\n",
    "import matplotlib.pyplot as plt\n",
    "%matplotlib inline\n",
    "import seaborn as sns\n",
    "sns.set_style('whitegrid')"
   ]
  },
  {
   "cell_type": "code",
   "execution_count": 2,
   "metadata": {},
   "outputs": [
    {
     "data": {
      "text/html": [
       "<div>\n",
       "<style scoped>\n",
       "    .dataframe tbody tr th:only-of-type {\n",
       "        vertical-align: middle;\n",
       "    }\n",
       "\n",
       "    .dataframe tbody tr th {\n",
       "        vertical-align: top;\n",
       "    }\n",
       "\n",
       "    .dataframe thead th {\n",
       "        text-align: right;\n",
       "    }\n",
       "</style>\n",
       "<table border=\"1\" class=\"dataframe\">\n",
       "  <thead>\n",
       "    <tr style=\"text-align: right;\">\n",
       "      <th></th>\n",
       "      <th>kode_provinsi</th>\n",
       "      <th>nama_provinsi</th>\n",
       "      <th>tingkat_pendidikan</th>\n",
       "      <th>jenis_kelamin_guru</th>\n",
       "      <th>jumlah_guru</th>\n",
       "    </tr>\n",
       "  </thead>\n",
       "  <tbody>\n",
       "    <tr>\n",
       "      <th>0</th>\n",
       "      <td>11</td>\n",
       "      <td>Prov. Nanggroe Aceh Darussalam</td>\n",
       "      <td>TK</td>\n",
       "      <td>Laki-Laki</td>\n",
       "      <td>95.0</td>\n",
       "    </tr>\n",
       "    <tr>\n",
       "      <th>1</th>\n",
       "      <td>11</td>\n",
       "      <td>Prov. Nanggroe Aceh Darussalam</td>\n",
       "      <td>TK</td>\n",
       "      <td>Perempuan</td>\n",
       "      <td>8137.0</td>\n",
       "    </tr>\n",
       "    <tr>\n",
       "      <th>2</th>\n",
       "      <td>11</td>\n",
       "      <td>Prov. Nanggroe Aceh Darussalam</td>\n",
       "      <td>SD</td>\n",
       "      <td>Laki-Laki</td>\n",
       "      <td>1283.0</td>\n",
       "    </tr>\n",
       "    <tr>\n",
       "      <th>3</th>\n",
       "      <td>11</td>\n",
       "      <td>Prov. Nanggroe Aceh Darussalam</td>\n",
       "      <td>SD</td>\n",
       "      <td>Perempuan</td>\n",
       "      <td>3459.0</td>\n",
       "    </tr>\n",
       "    <tr>\n",
       "      <th>4</th>\n",
       "      <td>11</td>\n",
       "      <td>Prov. Nanggroe Aceh Darussalam</td>\n",
       "      <td>SMP</td>\n",
       "      <td>Laki-Laki</td>\n",
       "      <td>5794.0</td>\n",
       "    </tr>\n",
       "  </tbody>\n",
       "</table>\n",
       "</div>"
      ],
      "text/plain": [
       "   kode_provinsi                   nama_provinsi tingkat_pendidikan  \\\n",
       "0             11  Prov. Nanggroe Aceh Darussalam                 TK   \n",
       "1             11  Prov. Nanggroe Aceh Darussalam                 TK   \n",
       "2             11  Prov. Nanggroe Aceh Darussalam                 SD   \n",
       "3             11  Prov. Nanggroe Aceh Darussalam                 SD   \n",
       "4             11  Prov. Nanggroe Aceh Darussalam                SMP   \n",
       "\n",
       "  jenis_kelamin_guru  jumlah_guru  \n",
       "0          Laki-Laki         95.0  \n",
       "1          Perempuan       8137.0  \n",
       "2          Laki-Laki       1283.0  \n",
       "3          Perempuan       3459.0  \n",
       "4          Laki-Laki       5794.0  "
      ]
     },
     "execution_count": 2,
     "metadata": {},
     "output_type": "execute_result"
    }
   ],
   "source": [
    "df = pd.read_csv('processed-data-guru-gender-provinsi-2012.csv')\n",
    "df.head()"
   ]
  },
  {
   "cell_type": "code",
   "execution_count": 3,
   "metadata": {},
   "outputs": [
    {
     "name": "stdout",
     "output_type": "stream",
     "text": [
      "<class 'pandas.core.frame.DataFrame'>\n",
      "RangeIndex: 396 entries, 0 to 395\n",
      "Data columns (total 5 columns):\n",
      "kode_provinsi         396 non-null int64\n",
      "nama_provinsi         396 non-null object\n",
      "tingkat_pendidikan    396 non-null object\n",
      "jenis_kelamin_guru    396 non-null object\n",
      "jumlah_guru           394 non-null float64\n",
      "dtypes: float64(1), int64(1), object(3)\n",
      "memory usage: 15.5+ KB\n"
     ]
    }
   ],
   "source": [
    "df.info()"
   ]
  },
  {
   "cell_type": "code",
   "execution_count": 4,
   "metadata": {},
   "outputs": [
    {
     "data": {
      "text/html": [
       "<div>\n",
       "<style scoped>\n",
       "    .dataframe tbody tr th:only-of-type {\n",
       "        vertical-align: middle;\n",
       "    }\n",
       "\n",
       "    .dataframe tbody tr th {\n",
       "        vertical-align: top;\n",
       "    }\n",
       "\n",
       "    .dataframe thead th {\n",
       "        text-align: right;\n",
       "    }\n",
       "</style>\n",
       "<table border=\"1\" class=\"dataframe\">\n",
       "  <thead>\n",
       "    <tr style=\"text-align: right;\">\n",
       "      <th></th>\n",
       "      <th>kode_provinsi</th>\n",
       "      <th>jumlah_guru</th>\n",
       "    </tr>\n",
       "  </thead>\n",
       "  <tbody>\n",
       "    <tr>\n",
       "      <th>count</th>\n",
       "      <td>396.000000</td>\n",
       "      <td>394.000000</td>\n",
       "    </tr>\n",
       "    <tr>\n",
       "      <th>mean</th>\n",
       "      <td>47.030303</td>\n",
       "      <td>6254.885787</td>\n",
       "    </tr>\n",
       "    <tr>\n",
       "      <th>std</th>\n",
       "      <td>26.354719</td>\n",
       "      <td>14129.620210</td>\n",
       "    </tr>\n",
       "    <tr>\n",
       "      <th>min</th>\n",
       "      <td>11.000000</td>\n",
       "      <td>4.000000</td>\n",
       "    </tr>\n",
       "    <tr>\n",
       "      <th>25%</th>\n",
       "      <td>19.000000</td>\n",
       "      <td>346.500000</td>\n",
       "    </tr>\n",
       "    <tr>\n",
       "      <th>50%</th>\n",
       "      <td>51.000000</td>\n",
       "      <td>1900.000000</td>\n",
       "    </tr>\n",
       "    <tr>\n",
       "      <th>75%</th>\n",
       "      <td>72.000000</td>\n",
       "      <td>5927.500000</td>\n",
       "    </tr>\n",
       "    <tr>\n",
       "      <th>max</th>\n",
       "      <td>94.000000</td>\n",
       "      <td>126326.000000</td>\n",
       "    </tr>\n",
       "  </tbody>\n",
       "</table>\n",
       "</div>"
      ],
      "text/plain": [
       "       kode_provinsi    jumlah_guru\n",
       "count     396.000000     394.000000\n",
       "mean       47.030303    6254.885787\n",
       "std        26.354719   14129.620210\n",
       "min        11.000000       4.000000\n",
       "25%        19.000000     346.500000\n",
       "50%        51.000000    1900.000000\n",
       "75%        72.000000    5927.500000\n",
       "max        94.000000  126326.000000"
      ]
     },
     "execution_count": 4,
     "metadata": {},
     "output_type": "execute_result"
    }
   ],
   "source": [
    "df.describe()"
   ]
  },
  {
   "cell_type": "markdown",
   "metadata": {},
   "source": [
    "Melihat data guru berdasarkan jenis kelaminnya"
   ]
  },
  {
   "cell_type": "code",
   "execution_count": 5,
   "metadata": {},
   "outputs": [
    {
     "data": {
      "text/plain": [
       "jenis_kelamin_guru\n",
       "Laki-Laki     814304.0\n",
       "Perempuan    1650121.0\n",
       "Name: jumlah_guru, dtype: float64"
      ]
     },
     "execution_count": 5,
     "metadata": {},
     "output_type": "execute_result"
    }
   ],
   "source": [
    "df.groupby('jenis_kelamin_guru')['jumlah_guru'].sum()"
   ]
  },
  {
   "cell_type": "code",
   "execution_count": 9,
   "metadata": {},
   "outputs": [
    {
     "name": "stderr",
     "output_type": "stream",
     "text": [
      "C:\\Users\\ASUS\\Anaconda3\\lib\\site-packages\\scipy\\stats\\stats.py:1713: FutureWarning: Using a non-tuple sequence for multidimensional indexing is deprecated; use `arr[tuple(seq)]` instead of `arr[seq]`. In the future this will be interpreted as an array index, `arr[np.array(seq)]`, which will result either in an error or a different result.\n",
      "  return np.add.reduce(sorted[indexer] * weights, axis=axis) / sumval\n"
     ]
    },
    {
     "data": {
      "text/plain": [
       "<matplotlib.axes._subplots.AxesSubplot at 0x1e1aa662da0>"
      ]
     },
     "execution_count": 9,
     "metadata": {},
     "output_type": "execute_result"
    },
    {
     "data": {
      "image/png": "[encoded data removed]",
      "text/plain": [
       "<Figure size 864x432 with 1 Axes>"
      ]
     },
     "metadata": {},
     "output_type": "display_data"
    }
   ],
   "source": [
    "plt.figure(figsize=(12,6))\n",
    "sns.barplot(x='jenis_kelamin_guru', y='jumlah_guru', data=df, estimator=sum, palette='coolwarm')"
   ]
  },
  {
   "cell_type": "code",
   "execution_count": 10,
   "metadata": {},
   "outputs": [
    {
     "data": {
      "text/plain": [
       "jenis_kelamin_guru  tingkat_pendidikan\n",
       "Laki-Laki           SD                    441787.0\n",
       "                    SLB                     3468.0\n",
       "                    SMA                    91381.0\n",
       "                    SMK                    71128.0\n",
       "                    SMP                   199809.0\n",
       "                    TK                      6731.0\n",
       "Perempuan           SD                    934393.0\n",
       "                    SLB                     6615.0\n",
       "                    SMA                   126536.0\n",
       "                    SMK                    73825.0\n",
       "                    SMP                   268104.0\n",
       "                    TK                    240648.0\n",
       "Name: jumlah_guru, dtype: float64"
      ]
     },
     "execution_count": 10,
     "metadata": {},
     "output_type": "execute_result"
    }
   ],
   "source": [
    "df.groupby(['jenis_kelamin_guru', 'tingkat_pendidikan'])['jumlah_guru'].sum()"
   ]
  },
  {
   "cell_type": "code",
   "execution_count": 11,
   "metadata": {},
   "outputs": [
    {
     "name": "stderr",
     "output_type": "stream",
     "text": [
      "C:\\Users\\ASUS\\Anaconda3\\lib\\site-packages\\scipy\\stats\\stats.py:1713: FutureWarning: Using a non-tuple sequence for multidimensional indexing is deprecated; use `arr[tuple(seq)]` instead of `arr[seq]`. In the future this will be interpreted as an array index, `arr[np.array(seq)]`, which will result either in an error or a different result.\n",
      "  return np.add.reduce(sorted[indexer] * weights, axis=axis) / sumval\n"
     ]
    },
    {
     "data": {
      "text/plain": [
       "<matplotlib.axes._subplots.AxesSubplot at 0x1e1aa6625f8>"
      ]
     },
     "execution_count": 11,
     "metadata": {},
     "output_type": "execute_result"
    },
    {
     "data": {
      "image/png": "[encoded data removed]",
      "text/plain": [
       "<Figure size 864x432 with 1 Axes>"
      ]
     },
     "metadata": {},
     "output_type": "display_data"
    }
   ],
   "source": [
    "plt.figure(figsize=(12,6))\n",
    "sns.barplot(x='tingkat_pendidikan', y='jumlah_guru', data=df, hue='jenis_kelamin_guru', estimator=sum, palette='coolwarm')"
   ]
  },
  {
   "cell_type": "markdown",
   "metadata": {},
   "source": [
    "From the bar above we can see that most teachers are teaching at 'SD' (Elementary School) and women > men"
   ]
  },
  {
   "cell_type": "code",
   "execution_count": 12,
   "metadata": {
    "scrolled": false
   },
   "outputs": [
    {
     "name": "stderr",
     "output_type": "stream",
     "text": [
      "C:\\Users\\ASUS\\Anaconda3\\lib\\site-packages\\scipy\\stats\\stats.py:1713: FutureWarning: Using a non-tuple sequence for multidimensional indexing is deprecated; use `arr[tuple(seq)]` instead of `arr[seq]`. In the future this will be interpreted as an array index, `arr[np.array(seq)]`, which will result either in an error or a different result.\n",
      "  return np.add.reduce(sorted[indexer] * weights, axis=axis) / sumval\n"
     ]
    },
    {
     "data": {
      "text/plain": [
       "<matplotlib.axes._subplots.AxesSubplot at 0x1e1aaa34f28>"
      ]
     },
     "execution_count": 12,
     "metadata": {},
     "output_type": "execute_result"
    },
    {
     "data": {
      "image/png": "[encoded data removed]",
      "text/plain": [
       "<Figure size 432x288 with 1 Axes>"
      ]
     },
     "metadata": {},
     "output_type": "display_data"
    }
   ],
   "source": [
    "sns.barplot(x='jenis_kelamin_guru', y='jumlah_guru', data=df, hue='tingkat_pendidikan', estimator=sum)"
   ]
  },
  {
   "cell_type": "markdown",
   "metadata": {},
   "source": [
    "So, which province has the most teacher?"
   ]
  },
  {
   "cell_type": "code",
   "execution_count": 13,
   "metadata": {},
   "outputs": [
    {
     "data": {
      "text/plain": [
       "nama_provinsi\n",
       "Prov. Jawa Tengah                  327613.0\n",
       "Prov. Jawa Barat                   321935.0\n",
       "Prov. Jawa Timur                   293927.0\n",
       "Prov. Sumatera Utara               146826.0\n",
       "Prov. Lampung                      100001.0\n",
       "Prov. Sulawesi Selatan              96018.0\n",
       "Prov. Sumatera Selatan              91850.0\n",
       "Prov. Banten                        90871.0\n",
       "Prov. DKI Jakarta                   88886.0\n",
       "Prov. Sumatera Barat                78649.0\n",
       "Prov. Riau                          75790.0\n",
       "Prov. Nusa Tenggara Barat           54816.0\n",
       "Prov. Kalimantan Selatan            51605.0\n",
       "Prov. Kalimantan Timur              51161.0\n",
       "Prov. Nusa Tenggara Timur           48187.0\n",
       "Prov. D I Yogyakarta                48171.0\n",
       "Prov. Kalimantan Barat              46174.0\n",
       "Prov. Nanggroe Aceh Darussalam      45398.0\n",
       "Prov. Bali                          44284.0\n",
       "Prov. Sulawesi Tenggara             42910.0\n",
       "Prov. Jambi                         41289.0\n",
       "Prov. Sulawesi Tengah               40585.0\n",
       "Prov. Kalimantan Tengah             40558.0\n",
       "Prov. Maluku                        29466.0\n",
       "Prov. Sulawesi Utara                27872.0\n",
       "Prov. Bengkulu                      25909.0\n",
       "Prov. Papua                         23123.0\n",
       "Prov. Kepulauan Riau                18318.0\n",
       "Prov. Sulawesi Barat                18167.0\n",
       "Prov. Gorontalo                     15077.0\n",
       "Prov. Kepulauan Bangka Belitung     14581.0\n",
       "Prov. Maluku Utara                  14493.0\n",
       "Prov. Papua Barat                    9915.0\n",
       "Name: jumlah_guru, dtype: float64"
      ]
     },
     "execution_count": 13,
     "metadata": {},
     "output_type": "execute_result"
    }
   ],
   "source": [
    "df.groupby('nama_provinsi')['jumlah_guru'].sum().sort_values(ascending=False)"
   ]
  },
  {
   "cell_type": "code",
   "execution_count": 14,
   "metadata": {},
   "outputs": [
    {
     "name": "stderr",
     "output_type": "stream",
     "text": [
      "C:\\Users\\ASUS\\Anaconda3\\lib\\site-packages\\scipy\\stats\\stats.py:1713: FutureWarning: Using a non-tuple sequence for multidimensional indexing is deprecated; use `arr[tuple(seq)]` instead of `arr[seq]`. In the future this will be interpreted as an array index, `arr[np.array(seq)]`, which will result either in an error or a different result.\n",
      "  return np.add.reduce(sorted[indexer] * weights, axis=axis) / sumval\n"
     ]
    },
    {
     "data": {
      "text/plain": [
       "<matplotlib.axes._subplots.AxesSubplot at 0x1e1aa9d7588>"
      ]
     },
     "execution_count": 14,
     "metadata": {},
     "output_type": "execute_result"
    },
    {
     "data": {
      "image/png": "[encoded data removed]",
      "text/plain": [
       "<Figure size 576x864 with 1 Axes>"
      ]
     },
     "metadata": {},
     "output_type": "display_data"
    }
   ],
   "source": [
    "plt.figure(figsize=(8,12))\n",
    "sns.barplot(x='jumlah_guru', y='nama_provinsi', data=df, estimator=sum)"
   ]
  },
  {
   "cell_type": "markdown",
   "metadata": {},
   "source": [
    "Jawa Tengah has the most teachers followed by Jawa Barat and Jawa Timur, this in fact because Pulau Jawa (Java Island) has the most highest population in Indonesia (\n",
    "about 70% people in Indonesia live in Java)."
   ]
  }
 ],
 "metadata": {
  "kernelspec": {
   "display_name": "Python 3",
   "language": "python",
   "name": "python3"
  },
  "language_info": {
   "codemirror_mode": {
    "name": "ipython",
    "version": 3
   },
   "file_extension": ".py",
   "mimetype": "text/x-python",
   "name": "python",
   "nbconvert_exporter": "python",
   "pygments_lexer": "ipython3",
   "version": "3.6.6"
  }
 },
 "nbformat": 4,
 "nbformat_minor": 2
}
